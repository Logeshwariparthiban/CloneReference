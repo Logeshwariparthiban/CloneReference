{
 "cells": [
  {
   "cell_type": "markdown",
   "id": "590bc8e5-33d3-47e7-9260-8107b01057f8",
   "metadata": {},
   "source": [
    "## API Key Input"
   ]
  },
  {
   "cell_type": "code",
   "execution_count": 1,
   "id": "5a40177a-5ca2-4f26-a129-f9966b10722b",
   "metadata": {},
   "outputs": [
    {
     "name": "stdin",
     "output_type": "stream",
     "text": [
      "🔑 Enter Tavily API Key:  ········\n",
      "🔑 Enter OpenAI API Key:  ········\n"
     ]
    }
   ],
   "source": [
    "import os\n",
    "import getpass\n",
    "\n",
    "# Re-enter Tavily API Key\n",
    "tavily_key = getpass.getpass(\"🔑 Enter Tavily API Key: \")\n",
    "os.environ[\"TAVILY_API_KEY\"] = tavily_key\n",
    "\n",
    "# Re-enter OpenAI API Key\n",
    "openai_key = getpass.getpass(\"🔑 Enter OpenAI API Key: \")\n",
    "os.environ[\"OPENAI_API_KEY\"] = openai_key\n"
   ]
  },
  {
   "cell_type": "markdown",
   "id": "0d19bbc7-5458-4237-a3ea-155f316a3735",
   "metadata": {},
   "source": [
    "##  Load Tavily Search Tool"
   ]
  },
  {
   "cell_type": "code",
   "execution_count": null,
   "id": "b853cdf9-e66c-4f7f-8f05-cda7e2c52763",
   "metadata": {},
   "outputs": [],
   "source": [
    "#Load the Tavily web search tool from langchain_tavily.Set it up to return max 2 results.\n",
    "#tool.invoke(...) checks if the tool works by asking a test question."
   ]
  },
  {
   "cell_type": "code",
   "execution_count": 2,
   "id": "b97fc889-4d0f-4696-b881-53da99df597e",
   "metadata": {},
   "outputs": [
    {
     "data": {
      "text/plain": [
       "{'query': 'What is LangGraph?',\n",
       " 'follow_up_questions': None,\n",
       " 'answer': None,\n",
       " 'images': [],\n",
       " 'results': [{'url': 'https://www.datacamp.com/tutorial/langgraph-tutorial',\n",
       "   'title': 'LangGraph Tutorial: What Is LangGraph and How to Use It?',\n",
       "   'content': 'LangGraph is a library within the LangChain ecosystem that provides a framework for defining, coordinating, and executing multiple LLM agents (or chains) in a structured and efficient manner. By managing the flow of data and the sequence of operations, LangGraph allows developers to focus on the high-level logic of their applications rather than the intricacies of agent coordination. Whether you need a chatbot that can handle various types of user requests or a multi-agent system that performs complex tasks, LangGraph provides the tools to build exactly what you need. LangGraph significantly simplifies the development of complex LLM applications by providing a structured framework for managing state and coordinating agent interactions.',\n",
       "   'score': 0.9581988,\n",
       "   'raw_content': None},\n",
       "  {'url': 'https://www.ibm.com/think/topics/langgraph',\n",
       "   'title': 'What is LangGraph? - IBM',\n",
       "   'content': 'LangGraph, created by LangChain, is an open source AI agent framework designed to build, deploy and manage complex generative AI agent workflows. At its core, LangGraph uses the power of graph-based architectures to model and manage the intricate relationships between various components of an AI agent workflow. LangGraph illuminates the processes within an AI workflow, allowing full transparency of the agent’s state. By combining these technologies with a set of APIs and tools, LangGraph provides users with a versatile platform for developing AI solutions and workflows including chatbots, state graphs and other agent-based systems. Nodes: In LangGraph, nodes represent individual components or agents within an AI workflow. LangGraph uses enhanced decision-making by modeling complex relationships between nodes, which means it uses AI agents to analyze their past actions and feedback.',\n",
       "   'score': 0.9554898,\n",
       "   'raw_content': None}],\n",
       " 'response_time': 1.66}"
      ]
     },
     "execution_count": 2,
     "metadata": {},
     "output_type": "execute_result"
    }
   ],
   "source": [
    "from langchain_tavily import TavilySearch\n",
    "\n",
    "# Define web search tool\n",
    "tool = TavilySearch(max_results=2)\n",
    "tools = [tool]\n",
    "\n",
    "# Test if Tavily works\n",
    "tool.invoke(\"What is LangGraph?\")\n",
    "\n"
   ]
  },
  {
   "cell_type": "markdown",
   "id": "40dbf2e5-06c7-4e4b-a3d1-99c8f0734d26",
   "metadata": {},
   "source": [
    "## Initialize ChatOpenAI and Tool Binding"
   ]
  },
  {
   "cell_type": "code",
   "execution_count": 25,
   "id": "8807f4d4-4885-4e1b-b7df-2a64dd4823e8",
   "metadata": {},
   "outputs": [],
   "source": [
    "#Purpose:\n",
    "#Load OpenAI’s GPT-3.5 model for conversation.\n",
    "#bind_tools(tools) connects GPT with the Tavily tool, so GPT can ask for web searches if needed."
   ]
  },
  {
   "cell_type": "code",
   "execution_count": 3,
   "id": "66586087-70ce-4fdc-9e8b-71ed4b2ed850",
   "metadata": {},
   "outputs": [],
   "source": [
    "from langchain_openai import ChatOpenAI\n",
    "\n",
    "llm = ChatOpenAI(model=\"gpt-3.5-turbo\")\n",
    "llm_with_tools = llm.bind_tools(tools)\n"
   ]
  },
  {
   "cell_type": "markdown",
   "id": "11052d91-ae24-4372-8b17-a11c4de7d908",
   "metadata": {},
   "source": [
    "##  Define Graph State Type"
   ]
  },
  {
   "cell_type": "code",
   "execution_count": null,
   "id": "52cd43d7-4a04-4938-8b93-4a2d346b4c5f",
   "metadata": {},
   "outputs": [],
   "source": [
    "#Define the data format (state) to pass between nodes in LangGraph.\n",
    "#Each state contains a list of messages exchanged in the chat."
   ]
  },
  {
   "cell_type": "code",
   "execution_count": 5,
   "id": "a018438b-056e-40db-95a7-f0d22feb2eb4",
   "metadata": {},
   "outputs": [],
   "source": [
    "from langgraph.graph import StateGraph\n",
    "from langgraph.graph.message import add_messages\n",
    "from typing import Annotated\n",
    "from typing_extensions import TypedDict\n",
    "\n",
    "# Define the state type\n",
    "class State(TypedDict):\n",
    "    messages: Annotated[list, add_messages]\n",
    "\n",
    "# Initialize the stateful graph\n",
    "graph_builder = StateGraph(State)\n"
   ]
  },
  {
   "cell_type": "markdown",
   "id": "4cac784b-506b-4ee1-a931-0e696a246906",
   "metadata": {},
   "source": [
    "##  Define Chatbot Node "
   ]
  },
  {
   "cell_type": "code",
   "execution_count": 26,
   "id": "54c5f562-3cb2-486f-9248-c939e7cfe917",
   "metadata": {},
   "outputs": [],
   "source": [
    "#Define how the chatbot responds to the current message.\n",
    "#It uses OpenAI model (GPT) + tools to generate a reply."
   ]
  },
  {
   "cell_type": "code",
   "execution_count": 6,
   "id": "5364a040-f23f-4080-8626-9ac5d4830d29",
   "metadata": {},
   "outputs": [],
   "source": [
    "# Define chatbot node logic\n",
    "def chatbot(state: State):\n",
    "    return {\"messages\": [llm_with_tools.invoke(state[\"messages\"])]}\n",
    "\n",
    "# Add chatbot node to graph\n",
    "graph_builder.add_node(\"chatbot\", chatbot)\n"
   ]
  },
  {
   "cell_type": "markdown",
   "id": "d1f0d910-b6e0-4418-b45f-103ed2d12d53",
   "metadata": {},
   "source": [
    "## Tool Execution Node"
   ]
  },
  {
   "cell_type": "code",
   "execution_count": 27,
   "id": "dd4c6b7e-b41c-4f4a-bd80-057e9ec86d8e",
   "metadata": {},
   "outputs": [],
   "source": [
    "#Define how to handle tool usage, e.g., Tavily web search.\n",
    "#If GPT requests a tool, this node executes it and sends back a message with the tool output."
   ]
  },
  {
   "cell_type": "code",
   "execution_count": 7,
   "id": "ce56fc5d-e81d-44a5-b4b3-efd908165e21",
   "metadata": {},
   "outputs": [],
   "source": [
    "import json\n",
    "from langchain_core.messages import ToolMessage\n",
    "\n",
    "# Tool execution node\n",
    "class BasicToolNode:\n",
    "    def __init__(self, tools: list):\n",
    "        self.tools_by_name = {tool.name: tool for tool in tools}\n",
    "\n",
    "    def __call__(self, inputs: dict):\n",
    "        messages = inputs.get(\"messages\", [])\n",
    "        if not messages:\n",
    "            raise ValueError(\"No message found in input\")\n",
    "        last_message = messages[-1]\n",
    "        outputs = []\n",
    "        for tool_call in getattr(last_message, \"tool_calls\", []):\n",
    "            result = self.tools_by_name[tool_call[\"name\"]].invoke(tool_call[\"args\"])\n",
    "            outputs.append(\n",
    "                ToolMessage(\n",
    "                    content=json.dumps(result),\n",
    "                    name=tool_call[\"name\"],\n",
    "                    tool_call_id=tool_call[\"id\"],\n",
    "                )\n",
    "            )\n",
    "        return {\"messages\": outputs}\n",
    "\n",
    "# Add tool node\n",
    "tool_node = BasicToolNode(tools)\n",
    "graph_builder.add_node(\"tools\", tool_node)\n"
   ]
  },
  {
   "cell_type": "markdown",
   "id": "5a15c5c0-1c26-4fc8-873e-772d70c3c3d9",
   "metadata": {},
   "source": [
    "## Router Logic for Next Node"
   ]
  },
  {
   "cell_type": "code",
   "execution_count": null,
   "id": "b793b610-a9b6-487a-bc14-f8865b632579",
   "metadata": {},
   "outputs": [],
   "source": [
    "#Decide where to go next in the graph:\n",
    "#If GPT wants to use a tool ➝ go to tools node.\n",
    "#If no tool is needed ➝ end the conversation.\n",
    "#After tool use ➝ go back to chatbot."
   ]
  },
  {
   "cell_type": "code",
   "execution_count": 8,
   "id": "3f2374c7-a27d-45b1-82fb-489d3ee4409c",
   "metadata": {},
   "outputs": [],
   "source": [
    "# Routing function\n",
    "def router(state: State):\n",
    "    messages = state.get(\"messages\", [])\n",
    "    if not messages:\n",
    "        return \"chatbot\"\n",
    "    last_msg = messages[-1]\n",
    "    if hasattr(last_msg, \"tool_calls\") and last_msg.tool_calls:\n",
    "        return \"tools\"\n",
    "    return \"end\"\n",
    "\n",
    "# Add edges based on routing\n",
    "graph_builder.add_conditional_edges(\"chatbot\", router, {\n",
    "    \"tools\": \"tools\",\n",
    "    \"end\": \"end\"\n",
    "})\n",
    "graph_builder.add_edge(\"tools\", \"chatbot\")\n"
   ]
  },
  {
   "cell_type": "markdown",
   "id": "e3dcd44e-b9b5-4a8f-9169-082688e320d7",
   "metadata": {},
   "source": [
    "## Add End Node and Set Entry/Exit Points"
   ]
  },
  {
   "cell_type": "code",
   "execution_count": null,
   "id": "1746fc33-95b2-4943-9243-50fe55a251af",
   "metadata": {},
   "outputs": [],
   "source": [
    "#Purpose:\n",
    "#Add a dummy end node to mark the end of a conversation.\n",
    "#Set the start point as chatbot and end point as end.\n",
    "#Compile the whole graph and print the structure."
   ]
  },
  {
   "cell_type": "code",
   "execution_count": 9,
   "id": "e93a2776-c6ab-4aa6-8fb3-fbef94a8b5a0",
   "metadata": {},
   "outputs": [],
   "source": [
    "# ✅ Add this dummy end node BEFORE defining the finish point\n",
    "def end_node(state: State):\n",
    "    return {}\n",
    "\n",
    "graph_builder.add_node(\"end\", end_node)\n",
    "\n",
    "# ✅ Define entry and finish points\n",
    "graph_builder.set_entry_point(\"chatbot\")\n",
    "graph_builder.set_finish_point(\"end\")\n",
    "\n",
    "# ✅ Compile the graph\n",
    "app = graph_builder.compile()\n"
   ]
  },
  {
   "cell_type": "code",
   "execution_count": 10,
   "id": "e1f32291-74d0-45c5-8fdb-24518c6da6ca",
   "metadata": {},
   "outputs": [],
   "source": [
    "#!pip install grandalf==0.7\n"
   ]
  },
  {
   "cell_type": "code",
   "execution_count": 11,
   "id": "a092fb7d-ea3d-46cc-9a2b-492cb529a43e",
   "metadata": {},
   "outputs": [
    {
     "name": "stdout",
     "output_type": "stream",
     "text": [
      "      +-----------+       \n",
      "      | __start__ |       \n",
      "      +-----------+       \n",
      "            *             \n",
      "            *             \n",
      "            *             \n",
      "      +---------+         \n",
      "      | chatbot |         \n",
      "      +---------+         \n",
      "        ..     ..         \n",
      "       .         .        \n",
      "      .           .       \n",
      "+-------+       +-----+   \n",
      "| tools |       | end |   \n",
      "+-------+       +-----+   \n",
      "                    *     \n",
      "                    *     \n",
      "                    *     \n",
      "              +---------+ \n",
      "              | __end__ | \n",
      "              +---------+ \n"
     ]
    }
   ],
   "source": [
    "app.get_graph().print_ascii()\n"
   ]
  },
  {
   "cell_type": "markdown",
   "id": "10d17714-acf0-4a06-8a8c-f63626e19237",
   "metadata": {},
   "source": [
    "## Define Chat Function"
   ]
  },
  {
   "cell_type": "code",
   "execution_count": null,
   "id": "5815d91e-583b-408f-9326-6c3bd6b0dc2e",
   "metadata": {},
   "outputs": [],
   "source": [
    "#Define how to send user input to the graph and stream the assistant’s reply.\n",
    "#Collects assistant output and prints it."
   ]
  },
  {
   "cell_type": "code",
   "execution_count": 28,
   "id": "82f741fd-cdf2-4a66-a26d-ddbed3868b98",
   "metadata": {},
   "outputs": [],
   "source": [
    "# Stream chat from the graph\n",
    "def stream_chat(user_input: str):\n",
    "    full_response = \"\"  # accumulate assistant reply\n",
    "    for event in app.stream({\"messages\": [{\"role\": \"user\", \"content\": user_input}]}):\n",
    "        for value in event.values():\n",
    "            for msg in value[\"messages\"]:\n",
    "                full_response += msg.content  # collect chunks\n",
    "\n",
    "    print(\"Assistant:\", full_response)  # print once\n",
    "\n"
   ]
  },
  {
   "cell_type": "markdown",
   "id": "5abe8924-c7c8-4e0f-8d68-bb012f7cc312",
   "metadata": {},
   "source": [
    "## Start Chat Loop"
   ]
  },
  {
   "cell_type": "code",
   "execution_count": 30,
   "id": "781895f7-011c-4399-b7fc-8ac73fb17344",
   "metadata": {},
   "outputs": [],
   "source": [
    "#Purpose:\n",
    "#Create a loop to chat with the assistant.\n",
    "#If the user types exit, it stops.\n",
    "#If there’s an error, it prints it and stops."
   ]
  },
  {
   "cell_type": "code",
   "execution_count": 29,
   "id": "b15dc94b-cd80-4365-a921-dce93609cdac",
   "metadata": {},
   "outputs": [
    {
     "name": "stdin",
     "output_type": "stream",
     "text": [
      "You:  Give some motivational quotes\n"
     ]
    },
    {
     "name": "stdout",
     "output_type": "stream",
     "text": [
      "Assistant: {\"query\": \"motivational quotes\", \"follow_up_questions\": null, \"answer\": null, \"images\": [], \"results\": [{\"url\": \"https://www.shopify.com/blog/motivational-quotes\", \"title\": \"200+ Motivational Quotes for Success & Daily Inspiration (2025)\", \"content\": \"1.   \\u201cWe cannot solve problems with the kind of thinking we employed when we came up with them.\\u201d \\u2014Albert Einstein\\n2.   \\u201cLearn as if you will live forever, live like you will die tomorrow.\\u201d \\u2014Mahatma Gandhi\\n3.   \\u201cStay away from those people who try to disparage your ambitions. Small minds will always do that, but great minds will give you a feeling that you can become great too.\\u201d \\u2014Mark Twain [...] 1.   \\u201cJust one small positive thought in the morning can change your whole day.\\u201d \\u2014Dalai Lama\\n2.   \\u201cOpportunities don\\u2019t happen, you create them.\\u201d \\u2014Chris Grosser\\n3.   \\u201cLove your family, work super hard, live your passion.\\u201d \\u2014Gary Vaynerchuk\\n4.   \\u201cIt is never too late to be what you might have been.\\u201d \\u2014George Eliot\\n5.   \\u201cDon\\u2019t let someone else\\u2019s opinion of you become your reality.\\u201d \\u2014Les Brown\\n6.   \\u201cIf you\\u2019re not positive energy, you\\u2019re negative energy.\\u201d \\u2014Mark Cuban [...] 1.   \\u201cConcentrate all your thoughts upon the work in hand. The sun\\u2019s rays do not burn until brought to a focus.\\u201d \\u2014Alexander Graham Bell\\n2.   \\u201cEither you run the day or the day runs you.\\u201d \\u2014Jim Rohn\\n3.   \\u201cI\\u2019m a great believer in luck, and I find the harder I work, the more I have of it.\\u201d \\u2014Thomas Jefferson\\n4.   \\u201cWhen we strive to become better than we are, everything around us becomes better too.\\u201d \\u2014Paulo Coelho\", \"score\": 0.8020137, \"raw_content\": null}, {\"url\": \"https://www.prevention.com/life/a44189224/life-quotes/\", \"title\": \"150 Quotes About Life That Will Inspire and Motivate You - Prevention\", \"content\": \"Inspirational quotes can brighten even the darkest of days. Sometimes, all we need is a fresh perspective or a few words of wisdom in the form of a positive affirmation or the right motivational quote. These help to reshape our mindset, set goals, and achieve lasting success. [...] If you\\u2019re feeling a bit uninspired or experiencing a lack of motivation, we suggest reading through these inspirational quotes. You can even place your favorites on a vision board to manifest anything your heart desires\\u2014and remind yourself that you have what it takes to make those dreams come true. [...] You can also bookmark a few quotes to share with the loved ones in your life for when they need a pick-me-up, a healthy dose of motivation, or a reminder of how much you love them. Here, you can choose from friendship quotes, quotes about strength, love messages, and more.\\n\\nBelow, browse through all different types of inspirational quotes from icons like Oprah Winfrey and Dolly Parton to wordsmiths like Oscar Wilde and Audre Lorde.\\n\\ninspirational quote by michael jordan\", \"score\": 0.70263255, \"raw_content\": null}], \"response_time\": 2.16}{\"query\": \"inspirational quotes\", \"follow_up_questions\": null, \"answer\": null, \"images\": [], \"results\": [{\"url\": \"https://www.inc.com/bill-murphy-jr/365-inspirational-quotes-for-2025/91066225\", \"title\": \"365 Best Inspirational Quotes for 2025 - Inc. Magazine\", \"content\": \"Let\\u2019s keep the streak going. Here 365 inspirational quotes for 2025:\\n\\nWednesday January 1, 2025\\n\\n \\u201cBitterness is like a cancer that enters the soul.\\u201d\\n\\n\\u2014 Sir Terry Waite\\n\\nThursday January 2, 2025\\n\\n \\u201cThe true test of character is not how much we know how to do, but how we behave when we don\\u2019t know what to do.\\u201d\\n\\n\\u2014 John Holt\\n\\nFriday January 3, 2025\\n\\n \\u201cIt\\u2019s better to be at the bottom of a ladder you want to climb than halfway up one you don\\u2019t.\\u201d\\n\\n\\u2014Ricky Gervais\\n\\nSaturday January 4, 2025 [...] Saturday March 8, 2025\\n\\n \\u201cSuccess is getting what you want. Happiness is wanting what you get.\\u201d\\n\\n\\u2014Ingrid Bergman\\n\\nSunday March 9, 2025\\n\\n \\u201cYou are on the eve of a complete victory. You can\\u2019t go wrong. The world is behind you.\\u201d\\n\\n\\u2014Josephine Baker\\n\\nMonday March 10, 2025\\n\\n \\u201cHolding on to anger is like grasping a hot coal with the intent of throwing it at someone else; you are the one who gets burned.\\u201d\\n\\n\\u2014 Anonymous\\n\\nTuesday March 11, 2025 [...] \\u2014 Sylvester Stalone\\n\\nTuesday March 25, 2025\\n\\n \\u201cWith everything that has happened to you, you can either feel sorry for yourself or treat what has happened as a gift. Everything is either an opportunity to grow or an obstacle to keep you from growing. You get to choose.\\u201d\\n\\n\\u2014 Wayne Dyer\\n\\nWednesday March 26, 2025\\n\\n \\u201cIf you\\u2019re too rigid in your thinking you may miss some wonderful opportunities for storytelling.\\u201d\\n\\n\\u2014 Vince Gilligan\\n\\nThursday March 27, 2025\", \"score\": 0.826278, \"raw_content\": null}, {\"url\": \"https://www.shopify.com/blog/motivational-quotes\", \"title\": \"200+ Motivational Quotes for Success & Daily Inspiration (2025)\", \"content\": \"Whether you\\u2019re a budding entrepreneur (check out these entrepreneur quotes) or an experienced business owner, learning how to deal with stress will always be important.\\n\\nInspiring quotes are one way to help you stay positive and productive as you move through your journey. Find a quote that connects with you and your goals. Then, move forward with confidence and appreciation for the world around you. [...] 1.   \\u201cYou can get everything in life you want if you will just help enough other people get what they want.\\u201d \\u2014Zig Ziglar\\n2.   \\u201cInspiration does exist, but it must find you working.\\u201d \\u2014Pablo Picasso\\n3.   \\u201cDon\\u2019t settle for average. Bring your best to the moment. Then, whether it fails or succeeds, at least you know you gave all you had.\\u201d \\u2014Angela Bassett\\n4.   \\u201cShow up, show up, show up, and after a while the muse shows up, too.\\u201d \\u2014Isabel Allende [...] 1.   \\u201cWe cannot solve problems with the kind of thinking we employed when we came up with them.\\u201d \\u2014Albert Einstein\\n2.   \\u201cLearn as if you will live forever, live like you will die tomorrow.\\u201d \\u2014Mahatma Gandhi\\n3.   \\u201cStay away from those people who try to disparage your ambitions. Small minds will always do that, but great minds will give you a feeling that you can become great too.\\u201d \\u2014Mark Twain\", \"score\": 0.7859175, \"raw_content\": null}], \"response_time\": 2.97}Here are some motivational and inspirational quotes for you:\n",
      "\n",
      "### Motivational Quotes:\n",
      "1. \"We cannot solve problems with the kind of thinking we employed when we came up with them.\" - Albert Einstein\n",
      "2. \"Opportunities don’t happen, you create them.\" - Chris Grosser\n",
      "3. \"Love your family, work super hard, live your passion.\" - Gary Vaynerchuk\n",
      "4. \"It is never too late to be what you might have been.\" - George Eliot\n",
      "5. \"Don’t let someone else’s opinion of you become your reality.\" - Les Brown\n",
      "\n",
      "### Inspirational Quotes:\n",
      "1. \"Bitterness is like a cancer that enters the soul.\" - Sir Terry Waite\n",
      "2. \"The true test of character is not how much we know how to do, but how we behave when we don’t know what to do.\" - John Holt\n",
      "3. \"Success is getting what you want. Happiness is wanting what you get.\" - Ingrid Bergman\n",
      "4. \"You are on the eve of a complete victory. You can’t go wrong. The world is behind you.\" - Josephine Baker\n",
      "5. \"If you’re too rigid in your thinking you may miss some wonderful opportunities for storytelling.\" - Vince Gilligan\n",
      "\n",
      "Feel free to reflect on these quotes for some positivity and motivation!\n"
     ]
    },
    {
     "name": "stdin",
     "output_type": "stream",
     "text": [
      "You:  ok thankyou\n"
     ]
    },
    {
     "name": "stdout",
     "output_type": "stream",
     "text": [
      "Assistant: You're welcome! If you have any more questions or need assistance with anything else, feel free to ask. Have a great day!\n"
     ]
    },
    {
     "name": "stdin",
     "output_type": "stream",
     "text": [
      "You:  q\n"
     ]
    },
    {
     "name": "stdout",
     "output_type": "stream",
     "text": [
      "👋 Goodbye!\n"
     ]
    }
   ],
   "source": [
    "# Interactive chat loop\n",
    "while True:\n",
    "    try:\n",
    "        user_input = input(\"You: \")\n",
    "        if user_input.lower() in [\"exit\", \"quit\", \"q\"]:\n",
    "            print(\"👋 Goodbye!\")\n",
    "            break\n",
    "        stream_chat(user_input)\n",
    "    except Exception as e:\n",
    "        print(\"❌ Error:\", e)\n",
    "        break"
   ]
  },
  {
   "cell_type": "code",
   "execution_count": null,
   "id": "f79a1089-f189-454f-b551-6850df745b86",
   "metadata": {},
   "outputs": [],
   "source": []
  }
 ],
 "metadata": {
  "kernelspec": {
   "display_name": "Python (langenv)",
   "language": "python",
   "name": "langenv"
  },
  "language_info": {
   "codemirror_mode": {
    "name": "ipython",
    "version": 3
   },
   "file_extension": ".py",
   "mimetype": "text/x-python",
   "name": "python",
   "nbconvert_exporter": "python",
   "pygments_lexer": "ipython3",
   "version": "3.10.18"
  }
 },
 "nbformat": 4,
 "nbformat_minor": 5
}
