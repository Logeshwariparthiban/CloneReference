{
 "cells": [
  {
   "cell_type": "code",
   "execution_count": 2,
   "id": "a2d6ecf1-5b5d-4cd4-99e9-87b73d5a5afe",
   "metadata": {},
   "outputs": [],
   "source": [
    "import os\n",
    "import getpass\n",
    "import json\n",
    "\n",
    "from langchain_core.messages import ToolMessage\n",
    "from langchain_tavily import TavilySearch\n",
    "from langchain_openai import ChatOpenAI\n",
    "from langgraph.graph import StateGraph\n",
    "from langgraph.graph.message import add_messages\n",
    "from typing import Annotated\n",
    "from typing_extensions import TypedDict"
   ]
  },
  {
   "cell_type": "code",
   "execution_count": 3,
   "id": "70f32e11-93fd-46f9-a572-40d2cd5443bd",
   "metadata": {},
   "outputs": [
    {
     "name": "stdin",
     "output_type": "stream",
     "text": [
      "🔑 Tavily API Key:  ········\n",
      "🔑 OpenAI API Key:  ········\n"
     ]
    }
   ],
   "source": [
    "# 🔐 Securely set API keys\n",
    "os.environ[\"TAVILY_API_KEY\"] = getpass.getpass(\"🔑 Tavily API Key: \")\n",
    "os.environ[\"OPENAI_API_KEY\"] = getpass.getpass(\"🔑 OpenAI API Key: \")"
   ]
  },
  {
   "cell_type": "code",
   "execution_count": 4,
   "id": "8c2716c5-46cc-4bef-aff8-83e19b6544f7",
   "metadata": {},
   "outputs": [],
   "source": [
    "# Tools & Model\n",
    "tool = TavilySearch(max_results=2)\n",
    "llm = ChatOpenAI(model=\"gpt-3.5-turbo\").bind_tools([tool])"
   ]
  },
  {
   "cell_type": "code",
   "execution_count": 10,
   "id": "e860ac20-5b8b-4c58-964a-60c744302aef",
   "metadata": {},
   "outputs": [],
   "source": [
    "# 🤖 Chat node (define this BEFORE using in graph)\n",
    "def chat_node(state: State):\n",
    "    return {\"messages\": [llm.invoke(state[\"messages\"])]}"
   ]
  },
  {
   "cell_type": "code",
   "execution_count": 11,
   "id": "993a96e5-4237-40bf-8f4b-6d698ada1610",
   "metadata": {},
   "outputs": [],
   "source": [
    "# 🧭 Routing logic\n",
    "def route(state: State):\n",
    "    return \"tools\" if getattr(state[\"messages\"][-1], \"tool_calls\", None) else \"end\"\n"
   ]
  },
  {
   "cell_type": "code",
   "execution_count": 12,
   "id": "bb8589c9-0a6b-4c5f-837e-09864bd20b5b",
   "metadata": {},
   "outputs": [],
   "source": [
    "# ⚙️ Tool execution node\n",
    "class ToolNode:\n",
    "    def __init__(self, tools): self.tools = {t.name: t for t in tools}\n",
    "    def __call__(self, state):\n",
    "        return {\n",
    "            \"messages\": [\n",
    "                ToolMessage(\n",
    "                    content=json.dumps(self.tools[call[\"name\"]].invoke(call[\"args\"])),\n",
    "                    name=call[\"name\"],\n",
    "                    tool_call_id=call[\"id\"]\n",
    "                ) for call in getattr(state[\"messages\"][-1], \"tool_calls\", [])\n",
    "            ]\n",
    "        }"
   ]
  },
  {
   "cell_type": "code",
   "execution_count": 13,
   "id": "9caa0ad3-b890-4a00-9af4-c7f31419704f",
   "metadata": {},
   "outputs": [],
   "source": [
    "#Router function\n",
    "def router(state: State) -> str:\n",
    "    last_msg = state[\"messages\"][-1]\n",
    "    return \"tools\" if getattr(last_msg, \"tool_calls\", None) else \"end\""
   ]
  },
  {
   "cell_type": "code",
   "execution_count": 14,
   "id": "242d821c-5da0-46d8-bf65-ee88dec402a5",
   "metadata": {},
   "outputs": [
    {
     "name": "stdout",
     "output_type": "stream",
     "text": [
      "      +-----------+       \n",
      "      | __start__ |       \n",
      "      +-----------+       \n",
      "            *             \n",
      "            *             \n",
      "            *             \n",
      "      +---------+         \n",
      "      | chatbot |         \n",
      "      +---------+         \n",
      "        **     ..         \n",
      "       *         .        \n",
      "      *           .       \n",
      "+-------+       +-----+   \n",
      "| tools |       | end |   \n",
      "+-------+       +-----+   \n",
      "                    *     \n",
      "                    *     \n",
      "                    *     \n",
      "              +---------+ \n",
      "              | __end__ | \n",
      "              +---------+ \n"
     ]
    }
   ],
   "source": [
    "# Graph\n",
    "graph = StateGraph(State)\n",
    "graph.add_node(\"chatbot\", chat_node)\n",
    "graph.add_node(\"tools\", ToolNode([tool]))\n",
    "graph.add_node(\"end\", lambda _: {})\n",
    "graph.add_conditional_edges(\"chatbot\", route, {\"tools\": \"tools\", \"end\": \"end\"})\n",
    "graph.add_edge(\"tools\", \"chatbot\")\n",
    "graph.set_entry_point(\"chatbot\")\n",
    "graph.set_finish_point(\"end\")\n",
    "app = graph.compile()\n",
    "app.get_graph().print_ascii()"
   ]
  },
  {
   "cell_type": "code",
   "execution_count": 15,
   "id": "1c75e098-125d-4657-afdc-16689603c8b3",
   "metadata": {},
   "outputs": [
    {
     "name": "stdin",
     "output_type": "stream",
     "text": [
      "You:  Give some ideas about unique life style\n"
     ]
    },
    {
     "name": "stdout",
     "output_type": "stream",
     "text": [
      "Assistant: {\"query\": \"unique lifestyle ideas\", \"follow_up_questions\": null, \"answer\": null, \"images\": [], \"results\": [{\"url\": \"https://www.quora.com/What-are-some-unique-and-interesting-ways-to-live-life\", \"title\": \"What are some unique and interesting ways to live life? - Quora\", \"content\": \"Keep life as simple as possible. Be a share holder for bringing happiness in others life. Never stop chasing your dream till you fulfill it.\", \"score\": 0.54303354, \"raw_content\": null}, {\"url\": \"https://margarethamontagu.com/15-unique-and-unconventional-ideas-to-help-you-through-lifes-challenges/\", \"title\": \"15 Unique and Unconventional Ideas to Help You Through Life's ...\", \"content\": \"15 Powerful Suggestions to Make Coping with Life Transitions Easier \\u00b7 1. Create a \\u201cJust-Because\\u201d Gift Basket/Box \\u00b7 2. Leave Encouraging Notes in\", \"score\": 0.49641174, \"raw_content\": null}], \"response_time\": 1.69}I found some unique lifestyle ideas for you:\n",
      "\n",
      "1. **Keep Life Simple:** Try to simplify your life as much as possible to reduce stress and focus on what truly matters.\n",
      "   \n",
      "2. **Bring Happiness to Others:** Be a shareholder in bringing happiness to others' lives. Acts of kindness and generosity can significantly enrich your own life.\n",
      "\n",
      "3. **Chase Your Dreams:** Never give up on pursuing your dreams until you achieve them. Persistence and determination can lead to a fulfilling and unique life journey.\n",
      "\n",
      "For more unconventional ideas and ways to navigate life's challenges, you can check out this [link](https://margarethamontagu.com/15-unique-and-unconventional-ideas-to-help-you-through-lifes-challenges/).\n"
     ]
    },
    {
     "name": "stdin",
     "output_type": "stream",
     "text": [
      "You:  q\n"
     ]
    },
    {
     "name": "stdout",
     "output_type": "stream",
     "text": [
      "👋 Goodbye!\n"
     ]
    }
   ],
   "source": [
    "# Chat loop\n",
    "def chat():\n",
    "    while True:\n",
    "        try:\n",
    "            q = input(\"You: \")\n",
    "            if q.lower() in {\"q\", \"quit\", \"exit\"}: print(\"👋 Goodbye!\"); break\n",
    "            resp = \"\".join(\n",
    "                m.content for e in app.stream({\"messages\": [{\"role\": \"user\", \"content\": q}]})\n",
    "                for v in e.values() for m in v[\"messages\"]\n",
    "            )\n",
    "            print(\"Assistant:\", resp)\n",
    "        except Exception as e:\n",
    "            print(\"❌\", e); breaksti\n",
    "\n",
    "if __name__ == \"__main__\": chat()"
   ]
  },
  {
   "cell_type": "code",
   "execution_count": null,
   "id": "50c14a01-fba4-4da7-8143-27b483c855e1",
   "metadata": {},
   "outputs": [],
   "source": []
  }
 ],
 "metadata": {
  "kernelspec": {
   "display_name": "Python (langenv)",
   "language": "python",
   "name": "langenv"
  },
  "language_info": {
   "codemirror_mode": {
    "name": "ipython",
    "version": 3
   },
   "file_extension": ".py",
   "mimetype": "text/x-python",
   "name": "python",
   "nbconvert_exporter": "python",
   "pygments_lexer": "ipython3",
   "version": "3.10.18"
  }
 },
 "nbformat": 4,
 "nbformat_minor": 5
}
